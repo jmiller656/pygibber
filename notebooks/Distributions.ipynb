{
 "cells": [
  {
   "cell_type": "code",
   "execution_count": 1,
   "metadata": {},
   "outputs": [
    {
     "name": "stderr",
     "output_type": "stream",
     "text": [
      "Using TensorFlow backend.\n"
     ]
    }
   ],
   "source": [
    "import sys\n",
    "sys.path.append(\"../\")\n",
    "\n",
    "import keras\n",
    "from keras.models import load_model\n",
    "import matplotlib.pyplot as plt\n",
    "from nltk.corpus import words\n",
    "import numpy as np\n",
    "from tqdm import tqdm\n",
    "\n",
    "import src.generator as g"
   ]
  },
  {
   "cell_type": "code",
   "execution_count": 2,
   "metadata": {},
   "outputs": [
    {
     "name": "stdout",
     "output_type": "stream",
     "text": [
      "WARNING:tensorflow:From c:\\users\\pwatm\\anaconda3\\envs\\tf-gpu\\lib\\site-packages\\tensorflow_core\\python\\ops\\resource_variable_ops.py:1630: calling BaseResourceVariable.__init__ (from tensorflow.python.ops.resource_variable_ops) with constraint is deprecated and will be removed in a future version.\n",
      "Instructions for updating:\n",
      "If using Keras pass *_constraint arguments to layers.\n",
      "WARNING:tensorflow:From c:\\users\\pwatm\\anaconda3\\envs\\tf-gpu\\lib\\site-packages\\tensorflow_core\\python\\ops\\nn_impl.py:183: where (from tensorflow.python.ops.array_ops) is deprecated and will be removed in a future version.\n",
      "Instructions for updating:\n",
      "Use tf.where in 2.0, which has the same broadcast rule as np.where\n",
      "WARNING:tensorflow:From c:\\users\\pwatm\\anaconda3\\envs\\tf-gpu\\lib\\site-packages\\keras\\backend\\tensorflow_backend.py:422: The name tf.global_variables is deprecated. Please use tf.compat.v1.global_variables instead.\n",
      "\n",
      "Model: \"sequential_1\"\n",
      "_________________________________________________________________\n",
      "Layer (type)                 Output Shape              Param #   \n",
      "=================================================================\n",
      "cu_dnnlstm_1 (CuDNNLSTM)     (None, 8)                 1184      \n",
      "_________________________________________________________________\n",
      "dense_1 (Dense)              (None, 1)                 9         \n",
      "=================================================================\n",
      "Total params: 1,193\n",
      "Trainable params: 1,193\n",
      "Non-trainable params: 0\n",
      "_________________________________________________________________\n"
     ]
    }
   ],
   "source": [
    "model = load_model(\"../models/model_long.h5\")\n",
    "model.summary()\n",
    "\n",
    "en_words = words.words()\n",
    "generator = g.Generator()"
   ]
  },
  {
   "cell_type": "code",
   "execution_count": 28,
   "metadata": {},
   "outputs": [],
   "source": [
    "model.save_weights(\"../models/weights.h5\")"
   ]
  },
  {
   "cell_type": "code",
   "execution_count": 3,
   "metadata": {},
   "outputs": [],
   "source": [
    "import string\n",
    "\n",
    "def get_arr_from_text(text):\n",
    "    text = text.lower()\n",
    "    return generator.postprocess(generator.map_to_chars(text))\n",
    "\n",
    "def split(word):\n",
    "        return [char for char in word]\n",
    "\n",
    "def clean_text(word):\n",
    "    rem_chars = [x for x in split(word) if x not in string.ascii_lowercase]\n",
    "    for char in rem_chars:\n",
    "        word = word.replace(char, \"\")\n",
    "    return word\n",
    "\n",
    "def predict_word_from_model(word):\n",
    "    word = clean_text(word)\n",
    "    return model.predict(np.asarray([get_arr_from_text(word)]))"
   ]
  },
  {
   "cell_type": "code",
   "execution_count": 4,
   "metadata": {},
   "outputs": [
    {
     "name": "stderr",
     "output_type": "stream",
     "text": [
      "100%|███████████████████████████████████████████████████████████████████████████████████████████████████████████████████████████████████████████████████████| 236736/236736 [08:37<00:00, 457.49it/s]\n"
     ]
    }
   ],
   "source": [
    "values = list(map(lambda x: (x, predict_word_from_model(x)), tqdm(en_words)))"
   ]
  },
  {
   "cell_type": "code",
   "execution_count": 8,
   "metadata": {},
   "outputs": [
    {
     "name": "stderr",
     "output_type": "stream",
     "text": [
      "100%|███████████████████████████████████████████████████████████████████████████████████████████████████████████████████████████████████████████████████| 236736/236736 [00:00<00:00, 1249863.43it/s]\n"
     ]
    }
   ],
   "source": [
    "prediction_values = [x[1][0][0] for x in tqdm(values)]"
   ]
  },
  {
   "cell_type": "code",
   "execution_count": 9,
   "metadata": {},
   "outputs": [
    {
     "name": "stdout",
     "output_type": "stream",
     "text": [
      "[0.9969734, 0.3584937, 0.7428166, 0.447648, 0.42647403, 0.46689478, 0.17135365, 0.30345452, 0.28241378, 0.012728022]\n"
     ]
    }
   ],
   "source": [
    "print(prediction_values[:10])"
   ]
  },
  {
   "cell_type": "code",
   "execution_count": 19,
   "metadata": {},
   "outputs": [
    {
     "data": {
      "image/png": "[encoded data removed]",
      "text/plain": [
       "<Figure size 432x288 with 1 Axes>"
      ]
     },
     "metadata": {
      "needs_background": "light"
     },
     "output_type": "display_data"
    }
   ],
   "source": [
    "plt.hist(prediction_values)\n",
    "plt.show()"
   ]
  },
  {
   "cell_type": "code",
   "execution_count": 15,
   "metadata": {},
   "outputs": [],
   "source": [
    "vals_sorted = sorted(values, key=lambda x: x[1][0][0])"
   ]
  },
  {
   "cell_type": "code",
   "execution_count": 18,
   "metadata": {},
   "outputs": [
    {
     "name": "stdout",
     "output_type": "stream",
     "text": [
      "qubba: 0.9721112847328186\n",
      "Guy: 0.97263103723526\n",
      "Ormazd: 0.9728795289993286\n",
      "xi: 0.9732816815376282\n",
      "Liukiu: 0.9733715057373047\n",
      "stradld: 0.9735307693481445\n",
      "Nejdi: 0.9735784530639648\n",
      "mho: 0.9737343788146973\n",
      "Awshar: 0.9751944541931152\n",
      "tyg: 0.9753841757774353\n",
      "kuvasz: 0.9760398864746094\n",
      "z: 0.9774845242500305\n",
      "Luc: 0.9777255058288574\n",
      "Ernst: 0.9779112935066223\n",
      "Wezn: 0.9782620668411255\n",
      "mutsje: 0.9785367250442505\n",
      "Zulhijjah: 0.9787702560424805\n",
      "cafh: 0.97957843542099\n",
      "nabk: 0.979977548122406\n",
      "vrbaite: 0.9802510142326355\n",
      "miaow: 0.9806963801383972\n",
      "Ods: 0.9818729758262634\n",
      "Uds: 0.9818729758262634\n",
      "Osc: 0.982284665107727\n",
      "Emm: 0.9825535416603088\n",
      "Stokavski: 0.9825953245162964\n",
      "Mordv: 0.9828091263771057\n",
      "uayeb: 0.9834144711494446\n",
      "Suu: 0.9838972091674805\n",
      "satlijk: 0.9866238236427307\n",
      "Arzava: 0.9866824150085449\n",
      "Chakavski: 0.9869468212127686\n",
      "Igdyr: 0.9871814846992493\n",
      "qoph: 0.988149881362915\n",
      "qintar: 0.989330530166626\n",
      "fyrd: 0.9893414974212646\n",
      "itcze: 0.9900686144828796\n",
      "uruisg: 0.9903780221939087\n",
      "Cymry: 0.990691065788269\n",
      "jynx: 0.9915518760681152\n",
      "Arzawa: 0.9917125701904297\n",
      "Exmoor: 0.9919605851173401\n",
      "Odds: 0.9920492768287659\n",
      "Kulturkampf: 0.992089033126831\n",
      "Odz: 0.9921499490737915\n",
      "mijl: 0.9926354289054871\n",
      "koksaghyz: 0.9929277300834656\n",
      "Hlidhskjalf: 0.9929848313331604\n",
      "Askr: 0.9930641055107117\n",
      "Cymraeg: 0.9932021498680115\n",
      "Nejd: 0.9932189583778381\n",
      "Acts: 0.9934720993041992\n",
      "Oddsbud: 0.9934722185134888\n",
      "eh: 0.9939426779747009\n",
      "Angstrom: 0.9939928650856018\n",
      "miqra: 0.9950363039970398\n",
      "Glathsheimr: 0.9953579306602478\n",
      "p: 0.9956209063529968\n",
      "Aht: 0.9963985681533813\n",
      "Ogpu: 0.9966922998428345\n",
      "A: 0.9969733953475952\n",
      "B: 0.9969733953475952\n",
      "C: 0.9969733953475952\n",
      "D: 0.9969733953475952\n",
      "E: 0.9969733953475952\n",
      "F: 0.9969733953475952\n",
      "G: 0.9969733953475952\n",
      "H: 0.9969733953475952\n",
      "I: 0.9969733953475952\n",
      "J: 0.9969733953475952\n",
      "K: 0.9969733953475952\n",
      "L: 0.9969733953475952\n",
      "M: 0.9969733953475952\n",
      "N: 0.9969733953475952\n",
      "O: 0.9969733953475952\n",
      "P: 0.9969733953475952\n",
      "Q: 0.9969733953475952\n",
      "R: 0.9969733953475952\n",
      "S: 0.9969733953475952\n",
      "T: 0.9969733953475952\n",
      "U: 0.9969733953475952\n",
      "V: 0.9969733953475952\n",
      "W: 0.9969733953475952\n",
      "X: 0.9969733953475952\n",
      "Y: 0.9969733953475952\n",
      "Z: 0.9969733953475952\n",
      "I: 0.9969733953475952\n",
      "messrs: 0.9970556497573853\n",
      "Ann: 0.9974083304405212\n",
      "grr: 0.9977450370788574\n",
      "Umpqua: 0.9980930685997009\n",
      "Artgum: 0.998117208480835\n",
      "Shtokavski: 0.998388409614563\n",
      "x: 0.9989445805549622\n",
      "Owlspiegle: 0.9991426467895508\n",
      "tck: 0.9992584586143494\n",
      "Krzysztof: 0.9993305206298828\n",
      "Owlglass: 0.99967360496521\n",
      "cwm: 0.9997500777244568\n",
      "zaqqum: 0.9998334646224976\n"
     ]
    }
   ],
   "source": [
    "for x in vals_sorted[-100:]:\n",
    "    print(f\"{x[0]}: {x[1][0][0]}\")"
   ]
  },
  {
   "cell_type": "code",
   "execution_count": 27,
   "metadata": {},
   "outputs": [
    {
     "data": {
      "text/plain": [
       "array([[0.9999982]], dtype=float32)"
      ]
     },
     "execution_count": 27,
     "metadata": {},
     "output_type": "execute_result"
    }
   ],
   "source": [
    "predict_word_from_model(\"wfsdfsd\")"
   ]
  }
 ],
 "metadata": {
  "kernelspec": {
   "display_name": "Python 3",
   "language": "python",
   "name": "python3"
  },
  "language_info": {
   "codemirror_mode": {
    "name": "ipython",
    "version": 3
   },
   "file_extension": ".py",
   "mimetype": "text/x-python",
   "name": "python",
   "nbconvert_exporter": "python",
   "pygments_lexer": "ipython3",
   "version": "3.7.5"
  }
 },
 "nbformat": 4,
 "nbformat_minor": 4
}
